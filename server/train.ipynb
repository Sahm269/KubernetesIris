{
 "cells": [
  {
   "cell_type": "markdown",
   "id": "f1411669",
   "metadata": {},
   "source": [
    "## partie with mlops \n"
   ]
  },
  {
   "cell_type": "code",
   "execution_count": null,
   "id": "3ea19fa9",
   "metadata": {},
   "outputs": [],
   "source": [
    "import pandas as pd\n",
    "from sklearn.datasets import load_iris\n",
    "from sklearn.ensemble import RandomForestClassifier\n",
    "import joblib\n",
    "\n"
   ]
  },
  {
   "cell_type": "code",
   "execution_count": null,
   "id": "a3cde69b",
   "metadata": {},
   "outputs": [],
   "source": [
    "# Charger les données\n",
    "iris = load_iris()\n",
    "X, y = iris.data, iris.target\n"
   ]
  },
  {
   "cell_type": "code",
   "execution_count": null,
   "id": "4b2096cf",
   "metadata": {},
   "outputs": [],
   "source": [
    "\n",
    "# Entraîner le modèle\n",
    "clf = RandomForestClassifier()\n",
    "clf.fit(X, y)\n",
    "\n"
   ]
  },
  {
   "cell_type": "code",
   "execution_count": null,
   "id": "adfcca24",
   "metadata": {},
   "outputs": [],
   "source": [
    "# Sauvegarder le modèle\n",
    "joblib.dump(clf, \"model.pkl\")\n",
    "print(\"✅ Modèle entraîné et sauvegardé dans model.pkl\")\n"
   ]
  },
  {
   "cell_type": "markdown",
   "id": "555183a9",
   "metadata": {},
   "source": [
    "## Partie with kubernetes "
   ]
  },
  {
   "cell_type": "code",
   "execution_count": 2,
   "id": "be238fef",
   "metadata": {},
   "outputs": [
    {
     "name": "stdout",
     "output_type": "stream",
     "text": [
      "✅ Modèles entraînés et sauvegardés : model_v1.pkl, model_v2.pkl, model_v3.pkl\n"
     ]
    }
   ],
   "source": [
    "from sklearn.ensemble import RandomForestClassifier\n",
    "from sklearn.linear_model import LogisticRegression\n",
    "from sklearn.svm import SVC\n",
    "import joblib\n",
    "from sklearn.datasets import load_iris\n",
    "\n",
    "# Charger les données\n",
    "iris = load_iris()\n",
    "X, y = iris.data, iris.target\n",
    "\n",
    "# Entraîner différents modèles\n",
    "model_v1 = RandomForestClassifier()\n",
    "model_v1.fit(X, y)\n",
    "joblib.dump(model_v1, \"model_v1.pkl\")\n",
    "\n",
    "model_v2 = LogisticRegression(max_iter=200)\n",
    "model_v2.fit(X, y)\n",
    "joblib.dump(model_v2, \"model_v2.pkl\")\n",
    "\n",
    "model_v3 = SVC(probability=True)\n",
    "model_v3.fit(X, y)\n",
    "joblib.dump(model_v3, \"model_v3.pkl\")\n",
    "\n",
    "print(\"✅ Modèles entraînés et sauvegardés : model_v1.pkl, model_v2.pkl, model_v3.pkl\")"
   ]
  },
  {
   "cell_type": "code",
   "execution_count": null,
   "id": "2eabebd0",
   "metadata": {},
   "outputs": [],
   "source": []
  }
 ],
 "metadata": {
  "kernelspec": {
   "display_name": "envkub",
   "language": "python",
   "name": "python3"
  },
  "language_info": {
   "codemirror_mode": {
    "name": "ipython",
    "version": 3
   },
   "file_extension": ".py",
   "mimetype": "text/x-python",
   "name": "python",
   "nbconvert_exporter": "python",
   "pygments_lexer": "ipython3",
   "version": "3.11.6"
  }
 },
 "nbformat": 4,
 "nbformat_minor": 5
}
